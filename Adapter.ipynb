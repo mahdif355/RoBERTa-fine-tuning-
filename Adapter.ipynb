{
  "nbformat": 4,
  "nbformat_minor": 0,
  "metadata": {
    "colab": {
      "provenance": [],
      "gpuType": "T4"
    },
    "kernelspec": {
      "name": "python3",
      "display_name": "Python 3"
    },
    "language_info": {
      "name": "python"
    },
    "accelerator": "GPU"
  },
  "cells": [
    {
      "cell_type": "markdown",
      "source": [
        "# Install necessary libraries"
      ],
      "metadata": {
        "id": "WjmsZ6lbvIGC"
      }
    },
    {
      "cell_type": "code",
      "source": [
        "!pip install transformers datasets"
      ],
      "metadata": {
        "colab": {
          "base_uri": "https://localhost:8080/"
        },
        "id": "l-1TrwNQvI_D",
        "outputId": "5e288abb-41e2-49c6-9495-0fa9f9f8107e"
      },
      "execution_count": 33,
      "outputs": [
        {
          "output_type": "stream",
          "name": "stdout",
          "text": [
            "Requirement already satisfied: transformers in /usr/local/lib/python3.10/dist-packages (4.42.4)\n",
            "Requirement already satisfied: datasets in /usr/local/lib/python3.10/dist-packages (2.21.0)\n",
            "Requirement already satisfied: filelock in /usr/local/lib/python3.10/dist-packages (from transformers) (3.15.4)\n",
            "Requirement already satisfied: huggingface-hub<1.0,>=0.23.2 in /usr/local/lib/python3.10/dist-packages (from transformers) (0.23.5)\n",
            "Requirement already satisfied: numpy<2.0,>=1.17 in /usr/local/lib/python3.10/dist-packages (from transformers) (1.26.4)\n",
            "Requirement already satisfied: packaging>=20.0 in /usr/local/lib/python3.10/dist-packages (from transformers) (24.1)\n",
            "Requirement already satisfied: pyyaml>=5.1 in /usr/local/lib/python3.10/dist-packages (from transformers) (6.0.2)\n",
            "Requirement already satisfied: regex!=2019.12.17 in /usr/local/lib/python3.10/dist-packages (from transformers) (2024.5.15)\n",
            "Requirement already satisfied: requests in /usr/local/lib/python3.10/dist-packages (from transformers) (2.32.3)\n",
            "Requirement already satisfied: safetensors>=0.4.1 in /usr/local/lib/python3.10/dist-packages (from transformers) (0.4.4)\n",
            "Requirement already satisfied: tokenizers<0.20,>=0.19 in /usr/local/lib/python3.10/dist-packages (from transformers) (0.19.1)\n",
            "Requirement already satisfied: tqdm>=4.27 in /usr/local/lib/python3.10/dist-packages (from transformers) (4.66.5)\n",
            "Requirement already satisfied: pyarrow>=15.0.0 in /usr/local/lib/python3.10/dist-packages (from datasets) (17.0.0)\n",
            "Requirement already satisfied: dill<0.3.9,>=0.3.0 in /usr/local/lib/python3.10/dist-packages (from datasets) (0.3.8)\n",
            "Requirement already satisfied: pandas in /usr/local/lib/python3.10/dist-packages (from datasets) (2.1.4)\n",
            "Requirement already satisfied: xxhash in /usr/local/lib/python3.10/dist-packages (from datasets) (3.5.0)\n",
            "Requirement already satisfied: multiprocess in /usr/local/lib/python3.10/dist-packages (from datasets) (0.70.16)\n",
            "Requirement already satisfied: fsspec<=2024.6.1,>=2023.1.0 in /usr/local/lib/python3.10/dist-packages (from fsspec[http]<=2024.6.1,>=2023.1.0->datasets) (2024.6.1)\n",
            "Requirement already satisfied: aiohttp in /usr/local/lib/python3.10/dist-packages (from datasets) (3.10.3)\n",
            "Requirement already satisfied: aiohappyeyeballs>=2.3.0 in /usr/local/lib/python3.10/dist-packages (from aiohttp->datasets) (2.3.5)\n",
            "Requirement already satisfied: aiosignal>=1.1.2 in /usr/local/lib/python3.10/dist-packages (from aiohttp->datasets) (1.3.1)\n",
            "Requirement already satisfied: attrs>=17.3.0 in /usr/local/lib/python3.10/dist-packages (from aiohttp->datasets) (24.2.0)\n",
            "Requirement already satisfied: frozenlist>=1.1.1 in /usr/local/lib/python3.10/dist-packages (from aiohttp->datasets) (1.4.1)\n",
            "Requirement already satisfied: multidict<7.0,>=4.5 in /usr/local/lib/python3.10/dist-packages (from aiohttp->datasets) (6.0.5)\n",
            "Requirement already satisfied: yarl<2.0,>=1.0 in /usr/local/lib/python3.10/dist-packages (from aiohttp->datasets) (1.9.4)\n",
            "Requirement already satisfied: async-timeout<5.0,>=4.0 in /usr/local/lib/python3.10/dist-packages (from aiohttp->datasets) (4.0.3)\n",
            "Requirement already satisfied: typing-extensions>=3.7.4.3 in /usr/local/lib/python3.10/dist-packages (from huggingface-hub<1.0,>=0.23.2->transformers) (4.12.2)\n",
            "Requirement already satisfied: charset-normalizer<4,>=2 in /usr/local/lib/python3.10/dist-packages (from requests->transformers) (3.3.2)\n",
            "Requirement already satisfied: idna<4,>=2.5 in /usr/local/lib/python3.10/dist-packages (from requests->transformers) (3.7)\n",
            "Requirement already satisfied: urllib3<3,>=1.21.1 in /usr/local/lib/python3.10/dist-packages (from requests->transformers) (2.0.7)\n",
            "Requirement already satisfied: certifi>=2017.4.17 in /usr/local/lib/python3.10/dist-packages (from requests->transformers) (2024.7.4)\n",
            "Requirement already satisfied: python-dateutil>=2.8.2 in /usr/local/lib/python3.10/dist-packages (from pandas->datasets) (2.8.2)\n",
            "Requirement already satisfied: pytz>=2020.1 in /usr/local/lib/python3.10/dist-packages (from pandas->datasets) (2024.1)\n",
            "Requirement already satisfied: tzdata>=2022.1 in /usr/local/lib/python3.10/dist-packages (from pandas->datasets) (2024.1)\n",
            "Requirement already satisfied: six>=1.5 in /usr/local/lib/python3.10/dist-packages (from python-dateutil>=2.8.2->pandas->datasets) (1.16.0)\n"
          ]
        }
      ]
    },
    {
      "cell_type": "markdown",
      "source": [
        "# Import necessary libraries"
      ],
      "metadata": {
        "id": "dQbJh72svp3u"
      }
    },
    {
      "cell_type": "code",
      "source": [
        "from datasets import load_dataset, concatenate_datasets, Dataset, load_metric\n",
        "from transformers import RobertaTokenizer, RobertaForSequenceClassification, Trainer, TrainingArguments\n",
        "import numpy as np\n",
        "from sklearn.model_selection import train_test_split\n",
        "import torch\n",
        "from sklearn.metrics import precision_score, recall_score, f1_score"
      ],
      "metadata": {
        "id": "d3isKbUrvraj"
      },
      "execution_count": 51,
      "outputs": []
    },
    {
      "cell_type": "markdown",
      "source": [
        "# Check if GPU is available"
      ],
      "metadata": {
        "id": "f0E3SfS3OUSk"
      }
    },
    {
      "cell_type": "code",
      "source": [
        "device = torch.device(\"cuda\") if torch.cuda.is_available() else torch.device(\"cpu\")"
      ],
      "metadata": {
        "id": "-6jhHcwLOXbz"
      },
      "execution_count": 50,
      "outputs": []
    },
    {
      "cell_type": "markdown",
      "source": [
        "# Load the IMDB Movie Review dataset"
      ],
      "metadata": {
        "id": "pG5avP86vtUo"
      }
    },
    {
      "cell_type": "code",
      "source": [
        "dataset = load_dataset(\"imdb\")"
      ],
      "metadata": {
        "id": "Z_fYhwEmvu-x"
      },
      "execution_count": 35,
      "outputs": []
    },
    {
      "cell_type": "markdown",
      "source": [
        "# Load the RoBERTa tokenizer and model"
      ],
      "metadata": {
        "id": "yJ_UE7ervw-P"
      }
    },
    {
      "cell_type": "code",
      "source": [
        "model = RobertaForSequenceClassification.from_pretrained(\"distilroberta-base\", num_labels=2)\n",
        "tokenizer = RobertaTokenizer.from_pretrained(\"distilroberta-base\")\n",
        "model.to(device)  # Move the model to the GPU"
      ],
      "metadata": {
        "colab": {
          "base_uri": "https://localhost:8080/"
        },
        "id": "7GvC5wmvvzPu",
        "outputId": "8dcab0fe-4807-4310-a18c-ef6441ec5655"
      },
      "execution_count": 36,
      "outputs": [
        {
          "output_type": "stream",
          "name": "stderr",
          "text": [
            "Some weights of RobertaForSequenceClassification were not initialized from the model checkpoint at distilroberta-base and are newly initialized: ['classifier.dense.bias', 'classifier.dense.weight', 'classifier.out_proj.bias', 'classifier.out_proj.weight']\n",
            "You should probably TRAIN this model on a down-stream task to be able to use it for predictions and inference.\n"
          ]
        }
      ]
    },
    {
      "cell_type": "markdown",
      "source": [
        "# Preprocess the data"
      ],
      "metadata": {
        "id": "dPttU70Av2fD"
      }
    },
    {
      "cell_type": "code",
      "source": [
        "def preprocess_function(examples):\n",
        "    return tokenizer(examples['text'], truncation=True, padding=True, max_length=512)\n",
        "\n",
        "encoded_dataset = dataset.map(preprocess_function, batched=True)"
      ],
      "metadata": {
        "id": "Hlff6XFBv1UL"
      },
      "execution_count": 37,
      "outputs": []
    },
    {
      "cell_type": "markdown",
      "source": [
        " # Split the data into train and test sets"
      ],
      "metadata": {
        "id": "ygpv1R3mv8fm"
      }
    },
    {
      "cell_type": "code",
      "source": [
        "train_dataset = encoded_dataset['train']\n",
        "\n",
        "# Separate the classes\n",
        "class_0 = train_dataset.filter(lambda x: x['label'] == 0)\n",
        "class_1 = train_dataset.filter(lambda x: x['label'] == 1)\n",
        "\n",
        "# Split the classes separately to maintain balance\n",
        "train_0, test_0 = train_test_split(class_0, test_size=0.2, random_state=42)\n",
        "train_1, test_1 = train_test_split(class_1, test_size=0.2, random_state=42)\n",
        "\n",
        "# Convert lists back to Dataset objects\n",
        "train_0 = Dataset.from_dict(train_0)\n",
        "train_1 = Dataset.from_dict(train_1)\n",
        "test_0 = Dataset.from_dict(test_0)\n",
        "test_1 = Dataset.from_dict(test_1)\n",
        "\n",
        "# Combine the split datasets using concatenate_datasets\n",
        "train_dataset = concatenate_datasets([train_0, train_1])\n",
        "test_dataset = concatenate_datasets([test_0, test_1])"
      ],
      "metadata": {
        "id": "fe8_ncr9wBaS"
      },
      "execution_count": 38,
      "outputs": []
    },
    {
      "cell_type": "markdown",
      "source": [
        "# After processing the dataset, clear unnecessary variables"
      ],
      "metadata": {
        "id": "IyANNJMH1CCK"
      }
    },
    {
      "cell_type": "code",
      "source": [
        "del dataset, encoded_dataset\n",
        "import gc\n",
        "gc.collect()  # Force garbage collection"
      ],
      "metadata": {
        "colab": {
          "base_uri": "https://localhost:8080/"
        },
        "id": "_Zcl8oXI0_ei",
        "outputId": "ae2d3553-ae0d-4ac3-f9e9-4f6df0c638ad"
      },
      "execution_count": 40,
      "outputs": [
        {
          "output_type": "execute_result",
          "data": {
            "text/plain": [
              "126"
            ]
          },
          "metadata": {},
          "execution_count": 40
        }
      ]
    },
    {
      "cell_type": "markdown",
      "source": [
        "# Define the metric for evaluation"
      ],
      "metadata": {
        "id": "259QBHvpwDvg"
      }
    },
    {
      "cell_type": "code",
      "source": [
        "accuracy_metric = load_metric(\"accuracy\")\n",
        "\n",
        "def compute_metrics(eval_pred):\n",
        "    logits, labels = eval_pred\n",
        "    predictions = np.argmax(logits, axis=-1)\n",
        "    accuracy = accuracy_metric.compute(predictions=predictions, references=labels)[\"accuracy\"]\n",
        "    precision = precision_score(labels, predictions, average=\"binary\", zero_division=1)\n",
        "    recall = recall_score(labels, predictions, average=\"binary\", zero_division=1)\n",
        "    f1 = f1_score(labels, predictions, average=\"binary\", zero_division=1)\n",
        "    return {\"accuracy\": accuracy, \"precision\": precision, \"recall\": recall, \"f1\": f1}"
      ],
      "metadata": {
        "id": "FgKsPmWCwEhT"
      },
      "execution_count": 52,
      "outputs": []
    },
    {
      "cell_type": "markdown",
      "source": [
        "# Define the training arguments"
      ],
      "metadata": {
        "id": "pRmOrtZjwJ9C"
      }
    },
    {
      "cell_type": "code",
      "source": [
        "training_args = TrainingArguments(\n",
        "    output_dir=\"./results\",               # Directory where model predictions and checkpoints will be written\n",
        "    eval_strategy=\"epoch\",                # Evaluation strategy: perform evaluation at the end of each epoch\n",
        "    save_strategy=\"epoch\",                # Save strategy: save the model checkpoint at the end of each epoch\n",
        "    learning_rate=5e-5,                   # Learning rate for the optimizer\n",
        "    per_device_train_batch_size=8,        # Batch size per GPU/TPU for training\n",
        "    per_device_eval_batch_size=8,         # Batch size per GPU/TPU for evaluation\n",
        "    num_train_epochs=3,                   # Number of training epochs\n",
        "    weight_decay=0.01,                    # Weight decay to apply (if any) for regularization\n",
        "    save_total_limit=2,                  # Limit the total number of checkpoints to save. Older checkpoints will be deleted\n",
        "    load_best_model_at_end=True,          # Whether to load the best model (based on the metric specified) at the end of training\n",
        "    metric_for_best_model=\"f1\",           # Metric to use for selecting the best model. The model with the highest F1 score will be saved\n",
        ")"
      ],
      "metadata": {
        "id": "xd1---fAwMMU"
      },
      "execution_count": 53,
      "outputs": []
    },
    {
      "cell_type": "markdown",
      "source": [
        "# Initialize the Trainer"
      ],
      "metadata": {
        "id": "EJFB4VoPwNzL"
      }
    },
    {
      "cell_type": "code",
      "source": [
        "trainer = Trainer(\n",
        "    model=model,\n",
        "    args=training_args,\n",
        "    train_dataset=train_dataset,\n",
        "    eval_dataset=test_dataset,\n",
        "    compute_metrics=compute_metrics,\n",
        ")"
      ],
      "metadata": {
        "id": "nKL1KJ7RwRWA"
      },
      "execution_count": 43,
      "outputs": []
    },
    {
      "cell_type": "markdown",
      "source": [
        "# Train the model"
      ],
      "metadata": {
        "id": "ih18xYz6wS8B"
      }
    },
    {
      "cell_type": "code",
      "source": [
        "trainer.train()"
      ],
      "metadata": {
        "id": "LW7kBd7SwW3u",
        "colab": {
          "base_uri": "https://localhost:8080/",
          "height": 376
        },
        "outputId": "1c5ffa8b-1864-4b44-ad51-643068fe3e9d"
      },
      "execution_count": 44,
      "outputs": [
        {
          "data": {
            "text/html": [
              "\n",
              "    <div>\n",
              "      \n",
              "      <progress value='7501' max='7500' style='width:300px; height:20px; vertical-align: middle;'></progress>\n",
              "      [7500/7500 53:38, Epoch 3/3]\n",
              "    </div>\n",
              "    <table border=\"1\" class=\"dataframe\">\n",
              "  <thead>\n",
              " <tr style=\"text-align: left;\">\n",
              "      <th>Epoch</th>\n",
              "      <th>Training Loss</th>\n",
              "      <th>Validation Loss</th>\n",
              "      <th>Accuracy</th>\n",
              "      <th>Precision</th>\n",
              "      <th>Recall</th>\n",
              "      <th>F1</th>\n",
              "    </tr>\n",
              "  </thead>\n",
              "  <tbody>\n",
              "    <tr>\n",
              "      <td>1</td>\n",
              "      <td>0.290100</td>\n",
              "      <td>0.390854</td>\n",
              "      <td>0.902600</td>\n",
              "      <td>0.953174</td>\n",
              "      <td>0.846800</td>\n",
              "      <td>0.896844</td>\n",
              "    </tr>\n",
              "    <tr>\n",
              "      <td>2</td>\n",
              "      <td>0.196300</td>\n",
              "      <td>0.336421</td>\n",
              "      <td>0.926800</td>\n",
              "      <td>0.915498</td>\n",
              "      <td>0.940400</td>\n",
              "      <td>0.927782</td>\n",
              "    </tr>\n",
              "    <tr>\n",
              "      <td>3</td>\n",
              "      <td>0.096400</td>\n",
              "      <td>0.357610</td>\n",
              "      <td>0.931200</td>\n",
              "      <td>0.924076</td>\n",
              "      <td>0.939600</td>\n",
              "      <td>0.931773</td>\n",
              "    </tr>\n",
              "  </tbody>\n",
              "</table><p>"
            ],
            "text/plain": [
              "<IPython.core.display.HTML object>"
            ]
          },
          "metadata": {},
          "output_type": "display_data"
        },
        {
          "output_type": "display_data",
          "data": {
            "text/plain": [
              "<IPython.core.display.HTML object>"
            ],
            "text/html": [
              "\n",
              "    <div>\n",
              "      \n",
              "      <progress value='7500' max='7500' style='width:300px; height:20px; vertical-align: middle;'></progress>\n",
              "      [7500/7500 55:16, Epoch 3/3]\n",
              "    </div>\n",
              "    <table border=\"1\" class=\"dataframe\">\n",
              "  <thead>\n",
              " <tr style=\"text-align: left;\">\n",
              "      <th>Epoch</th>\n",
              "      <th>Training Loss</th>\n",
              "      <th>Validation Loss</th>\n",
              "      <th>Accuracy</th>\n",
              "      <th>Precision</th>\n",
              "      <th>Recall</th>\n",
              "      <th>F1</th>\n",
              "    </tr>\n",
              "  </thead>\n",
              "  <tbody>\n",
              "    <tr>\n",
              "      <td>1</td>\n",
              "      <td>0.290100</td>\n",
              "      <td>0.390854</td>\n",
              "      <td>0.902600</td>\n",
              "      <td>0.953174</td>\n",
              "      <td>0.846800</td>\n",
              "      <td>0.896844</td>\n",
              "    </tr>\n",
              "    <tr>\n",
              "      <td>2</td>\n",
              "      <td>0.196300</td>\n",
              "      <td>0.336421</td>\n",
              "      <td>0.926800</td>\n",
              "      <td>0.915498</td>\n",
              "      <td>0.940400</td>\n",
              "      <td>0.927782</td>\n",
              "    </tr>\n",
              "    <tr>\n",
              "      <td>3</td>\n",
              "      <td>0.096400</td>\n",
              "      <td>0.357610</td>\n",
              "      <td>0.931200</td>\n",
              "      <td>0.924076</td>\n",
              "      <td>0.939600</td>\n",
              "      <td>0.931773</td>\n",
              "    </tr>\n",
              "  </tbody>\n",
              "</table><p>"
            ]
          },
          "metadata": {}
        },
        {
          "output_type": "execute_result",
          "data": {
            "text/plain": [
              "TrainOutput(global_step=7500, training_loss=0.2186727294921875, metrics={'train_runtime': 3316.9574, 'train_samples_per_second': 18.089, 'train_steps_per_second': 2.261, 'total_flos': 7948043919360000.0, 'train_loss': 0.2186727294921875, 'epoch': 3.0})"
            ]
          },
          "metadata": {},
          "execution_count": 44
        }
      ]
    },
    {
      "cell_type": "markdown",
      "source": [
        "# Evaluate the model"
      ],
      "metadata": {
        "id": "JDHiV5nFwX3m"
      }
    },
    {
      "cell_type": "code",
      "source": [
        "metrics = trainer.evaluate()\n",
        "print(metrics)"
      ],
      "metadata": {
        "id": "cPur7l7Jwa1n",
        "colab": {
          "base_uri": "https://localhost:8080/",
          "height": 74
        },
        "outputId": "0f0ee615-1f7c-45a8-cd2c-b271b48ed088"
      },
      "execution_count": 45,
      "outputs": [
        {
          "output_type": "display_data",
          "data": {
            "text/plain": [
              "<IPython.core.display.HTML object>"
            ],
            "text/html": [
              "\n",
              "    <div>\n",
              "      \n",
              "      <progress value='625' max='625' style='width:300px; height:20px; vertical-align: middle;'></progress>\n",
              "      [625/625 01:22]\n",
              "    </div>\n",
              "    "
            ]
          },
          "metadata": {}
        },
        {
          "output_type": "stream",
          "name": "stdout",
          "text": [
            "{'eval_loss': 0.3576098084449768, 'eval_accuracy': 0.9312, 'eval_precision': 0.9240755310778914, 'eval_recall': 0.9396, 'eval_f1': 0.931773105910353, 'eval_runtime': 82.3827, 'eval_samples_per_second': 60.692, 'eval_steps_per_second': 7.587, 'epoch': 3.0}\n"
          ]
        }
      ]
    },
    {
      "cell_type": "markdown",
      "source": [
        "# Save the model and tokenizer"
      ],
      "metadata": {
        "id": "03qNg-lpwceU"
      }
    },
    {
      "cell_type": "code",
      "source": [
        "model.save_pretrained(\"./imdb_finetuned_roberta\")\n",
        "tokenizer.save_pretrained(\"./imdb_finetuned_roberta\")"
      ],
      "metadata": {
        "id": "M4KS6UFOwd8O",
        "colab": {
          "base_uri": "https://localhost:8080/"
        },
        "outputId": "9af99a23-65d0-4ef6-dc2a-d69cdacaf413"
      },
      "execution_count": 46,
      "outputs": [
        {
          "output_type": "execute_result",
          "data": {
            "text/plain": [
              "('./imdb_finetuned_roberta/tokenizer_config.json',\n",
              " './imdb_finetuned_roberta/special_tokens_map.json',\n",
              " './imdb_finetuned_roberta/vocab.json',\n",
              " './imdb_finetuned_roberta/merges.txt',\n",
              " './imdb_finetuned_roberta/added_tokens.json')"
            ]
          },
          "metadata": {},
          "execution_count": 46
        }
      ]
    },
    {
      "cell_type": "code",
      "source": [
        "from collections import Counter\n",
        "\n",
        "# Checking class distribution in the evaluation set\n",
        "print(Counter(test_dataset['label']))\n"
      ],
      "metadata": {
        "colab": {
          "base_uri": "https://localhost:8080/"
        },
        "id": "0ChuvM9x9mZp",
        "outputId": "5af75d3b-e2d6-4f16-8fb6-1cfac1f50655"
      },
      "execution_count": 47,
      "outputs": [
        {
          "output_type": "stream",
          "name": "stdout",
          "text": [
            "Counter({0: 2500, 1: 2500})\n"
          ]
        }
      ]
    }
  ]
}